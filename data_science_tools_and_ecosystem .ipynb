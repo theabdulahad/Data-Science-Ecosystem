{
 "cells": [
  {
   "cell_type": "markdown",
   "id": "f7fec446",
   "metadata": {},
   "source": [
    "# Data Science tools and ecosystem"
   ]
  },
  {
   "cell_type": "markdown",
   "id": "67461d13",
   "metadata": {},
   "source": [
    "### introdcution"
   ]
  },
  {
   "cell_type": "code",
   "execution_count": 1,
   "id": "c583b936",
   "metadata": {},
   "outputs": [],
   "source": [
    "# this is common arithematic operation"
   ]
  },
  {
   "cell_type": "code",
   "execution_count": 3,
   "id": "750ed932",
   "metadata": {},
   "outputs": [
    {
     "data": {
      "text/plain": [
       "35"
      ]
     },
     "execution_count": 3,
     "metadata": {},
     "output_type": "execute_result"
    }
   ],
   "source": [
    "(5*6)+5"
   ]
  },
  {
   "cell_type": "code",
   "execution_count": 4,
   "id": "18030289",
   "metadata": {},
   "outputs": [
    {
     "data": {
      "text/plain": [
       "3.3333333333333335"
      ]
     },
     "execution_count": 4,
     "metadata": {},
     "output_type": "execute_result"
    }
   ],
   "source": [
    "200/60"
   ]
  },
  {
   "cell_type": "markdown",
   "id": "938483cc",
   "metadata": {},
   "source": [
    "## data science tools"
   ]
  },
  {
   "cell_type": "markdown",
   "id": "20d271d0",
   "metadata": {},
   "source": [
    "### SAS\n",
    "### Hadoop\n",
    "### tensorflow"
   ]
  },
  {
   "cell_type": "markdown",
   "id": "a5fc6fca",
   "metadata": {},
   "source": [
    "# Objectives"
   ]
  },
  {
   "cell_type": "markdown",
   "id": "bbd442eb",
   "metadata": {},
   "source": [
    "## list popular language in data science\n",
    "## create markdown"
   ]
  },
  {
   "cell_type": "markdown",
   "id": "e96f27cb",
   "metadata": {},
   "source": [
    "# Libraries\n",
    " \n",
    "#### 1. Tensorflow\n",
    "#### 2. Pandas\n",
    "#### 3.matplotlib"
   ]
  },
  {
   "cell_type": "code",
   "execution_count": null,
   "id": "2836e7dc",
   "metadata": {},
   "outputs": [],
   "source": []
  }
 ],
 "metadata": {
  "kernelspec": {
   "display_name": "Python 3 (ipykernel)",
   "language": "python",
   "name": "python3"
  },
  "language_info": {
   "codemirror_mode": {
    "name": "ipython",
    "version": 3
   },
   "file_extension": ".py",
   "mimetype": "text/x-python",
   "name": "python",
   "nbconvert_exporter": "python",
   "pygments_lexer": "ipython3",
   "version": "3.10.9"
  }
 },
 "nbformat": 4,
 "nbformat_minor": 5
}
